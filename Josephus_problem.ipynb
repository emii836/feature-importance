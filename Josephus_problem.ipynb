{
 "cells": [
  {
   "cell_type": "code",
   "execution_count": 4,
   "id": "01e80952-0111-44c2-b21b-95a1ab420c1e",
   "metadata": {},
   "outputs": [],
   "source": [
    "import numpy as np"
   ]
  },
  {
   "cell_type": "code",
   "execution_count": 8,
   "id": "41630d6d-63d3-4672-8f15-04cb2e150029",
   "metadata": {},
   "outputs": [],
   "source": [
    "def josephus(n, k):\n",
    "    if n==1: \n",
    "        return 1\n",
    "    else:\n",
    "        \n",
    "        return  (josephus(n - 1, k) + k-1) % n + 1"
   ]
  },
  {
   "cell_type": "code",
   "execution_count": 9,
   "id": "fea2ae18-1cfe-4926-a1af-cea147bd2e51",
   "metadata": {},
   "outputs": [],
   "source": [
    "def js(x):\n",
    "    a=np.array(x)\n",
    "    k=2\n",
    "    n=len(x)\n",
    "    res=(josephus(n - 1, k) + k-1) % n + 1;\n",
    "    return res"
   ]
  },
  {
   "cell_type": "code",
   "execution_count": 10,
   "id": "ce009856-831a-4e58-986b-2c7d42fed4d5",
   "metadata": {},
   "outputs": [
    {
     "data": {
      "text/plain": [
       "5"
      ]
     },
     "execution_count": 10,
     "metadata": {},
     "output_type": "execute_result"
    }
   ],
   "source": [
    "x=[3, 8, 9, 0, 2, 10]\n",
    "js(x)"
   ]
  },
  {
   "cell_type": "code",
   "execution_count": null,
   "id": "1ccc8654-63d3-4a39-917c-f4cabc74255f",
   "metadata": {},
   "outputs": [],
   "source": []
  },
  {
   "cell_type": "code",
   "execution_count": null,
   "id": "3d597cd0-ad2e-4dea-b247-0eda845c4ffb",
   "metadata": {},
   "outputs": [],
   "source": []
  }
 ],
 "metadata": {
  "kernelspec": {
   "display_name": "Python 3 (ipykernel)",
   "language": "python",
   "name": "python3"
  },
  "language_info": {
   "codemirror_mode": {
    "name": "ipython",
    "version": 3
   },
   "file_extension": ".py",
   "mimetype": "text/x-python",
   "name": "python",
   "nbconvert_exporter": "python",
   "pygments_lexer": "ipython3",
   "version": "3.9.13"
  }
 },
 "nbformat": 4,
 "nbformat_minor": 5
}
