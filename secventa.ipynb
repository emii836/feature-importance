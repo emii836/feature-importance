{
 "cells": [
  {
   "cell_type": "code",
   "execution_count": 3,
   "id": "0c9b4ef8-badd-480a-9d3a-a75413104dfc",
   "metadata": {},
   "outputs": [],
   "source": [
    "import copy\n",
    "\n",
    "def findLISLength(x):\n",
    "  def generateSubsequences(subarr):\n",
    "    if len(subarr) == 0:\n",
    "      return [[]]\n",
    "    sub = []\n",
    "    for seq in generateSubsequences(subarr[1:]):\n",
    "      sub.append(seq)\n",
    "      c = copy.deepcopy(seq)\n",
    "      c.insert(0, subarr[0])\n",
    "      sub.append(c)\n",
    "    return sub\n",
    "  sequences = generateSubsequences(x)\n",
    "  l = 1\n",
    "  for subseq in sequences:\n",
    "    if isIncreasing(subseq) and len(subseq) > l:\n",
    "      l = len(subseq)\n",
    "  return l\n",
    "def isIncreasing(x):\n",
    "  for i in range(len(x)-1):\n",
    "    if x[i] >= x[i+1]:\n",
    "      return False\n",
    "  return True"
   ]
  },
  {
   "cell_type": "code",
   "execution_count": 4,
   "id": "72285745-a103-4dbf-b32e-3fb5ee28db24",
   "metadata": {},
   "outputs": [
    {
     "name": "stdout",
     "output_type": "stream",
     "text": [
      "4\n"
     ]
    }
   ],
   "source": [
    "arr=[5, 2, 4, 1, 3, 8, 6, 7]\n",
    "print(findLISLength(arr))"
   ]
  },
  {
   "cell_type": "code",
   "execution_count": null,
   "id": "119ecb2e-9735-414b-9c42-f0546deed6a7",
   "metadata": {},
   "outputs": [],
   "source": []
  }
 ],
 "metadata": {
  "kernelspec": {
   "display_name": "Python 3 (ipykernel)",
   "language": "python",
   "name": "python3"
  },
  "language_info": {
   "codemirror_mode": {
    "name": "ipython",
    "version": 3
   },
   "file_extension": ".py",
   "mimetype": "text/x-python",
   "name": "python",
   "nbconvert_exporter": "python",
   "pygments_lexer": "ipython3",
   "version": "3.9.13"
  }
 },
 "nbformat": 4,
 "nbformat_minor": 5
}
